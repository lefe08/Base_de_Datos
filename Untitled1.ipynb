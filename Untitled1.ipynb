{
  "nbformat": 4,
  "nbformat_minor": 0,
  "metadata": {
    "colab": {
      "name": "Untitled1.ipynb",
      "provenance": [],
      "authorship_tag": "ABX9TyOtNT3rNf2kUcKNgJLj0bWo",
      "include_colab_link": true
    },
    "kernelspec": {
      "name": "python3",
      "display_name": "Python 3"
    },
    "language_info": {
      "name": "python"
    }
  },
  "cells": [
    {
      "cell_type": "markdown",
      "metadata": {
        "id": "view-in-github",
        "colab_type": "text"
      },
      "source": [
        "<a href=\"https://colab.research.google.com/github/lefe08/Base_de_Datos/blob/main/Untitled1.ipynb\" target=\"_parent\"><img src=\"https://colab.research.google.com/assets/colab-badge.svg\" alt=\"Open In Colab\"/></a>"
      ]
    },
    {
      "cell_type": "code",
      "execution_count": null,
      "metadata": {
        "id": "RZW_K0PwgWbj"
      },
      "outputs": [],
      "source": [
        "1.1 # ¿Qué es python? (2 puntos)\n",
        "\n",
        " ES UN LENGUAJE DE PROGRAMACIÓN. SE TRATA DE UN LENGUALE INTERPRETADO O DE SCRIPT, CON TIPADO DINÁMICO,FUERTEMENTE TIPADO, MULTIPLATAFORMA Y ORIENTADO A OBJETOS, con una sintaxis limpio y legible\n",
        "creado por Guido van Rossum\n",
        "1.2 # ¿Es multiplataforma en que sistemas operativos funciona ? (2 puntos)\n",
        "Unix, Solaris, Linux, Dos, Windows, OS/2, Mac OS.\n",
        "\n",
        "\n",
        "\n",
        "1.3 #  Ejercicio 1 (2 puntos) Escribir un programa que pregunte al usuario su nombre, y luego lo salude.\n",
        "\n",
        "\n",
        "\n"
      ]
    }
  ]
}